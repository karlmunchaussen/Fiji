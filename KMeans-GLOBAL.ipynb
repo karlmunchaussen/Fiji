{
 "cells": [
  {
   "cell_type": "markdown",
   "metadata": {},
   "source": [
    "# Data cleaning\n"
   ]
  },
  {
   "cell_type": "code",
   "execution_count": 15,
   "metadata": {},
   "outputs": [],
   "source": [
    "# Initial imports\n",
    "import pandas as pd\n",
    "import numpy as np\n",
    "from sklearn.cluster import KMeans\n",
    "import plotly.express as px\n",
    "import seaborn as sns\n",
    "import matplotlib.pyplot as plt\n",
    "import hvplot.pandas\n",
    "from path import Path\n",
    "from sklearn.metrics import silhouette_score\n",
    "\n",
    "%matplotlib inline"
   ]
  },
  {
   "cell_type": "code",
   "execution_count": 3,
   "metadata": {},
   "outputs": [],
   "source": [
    "# Loading data\n",
    "data = pd.read_csv(Path(\"Resources/Health_systems.csv\"))"
   ]
  },
  {
   "cell_type": "code",
   "execution_count": 4,
   "metadata": {},
   "outputs": [],
   "source": [
    "# Drop columns due to lack of data\n",
    "data_df = data.drop(\n",
    "    columns=['Country_Region', 'Province_State', \n",
    "             'Completeness_of_birth_reg_2009-18', 'Specialist_surgical_per_1000_2008-18', \n",
    "             'Nurse_midwife_per_1000_2009-18', 'Physicians_per_1000_2009-18'], \n",
    "    axis=1\n",
    ")\n",
    "\n",
    "# Make column names more readable\n",
    "data_df.rename(\n",
    "    columns={\"Health_exp_pct_GDP_2016\": \"Health expenditure (% of GDP)\",\n",
    "            \"Health_exp_public_pct_2016\": \"Domestic general government health expenditure (% of health expenditure)\",\n",
    "            \"Health_exp_out_of_pocket_pct_2016\": \"Out-of-pocket expenditure (% of health expenditure)\",\n",
    "            \"Health_exp_per_capita_USD_2016\": \"Health expenditure per capita (current US$)\",\n",
    "            \"per_capita_exp_PPP_2016\": \"Current health expenditure per capita, PPP (current international $)\",\n",
    "            \"External_health_exp_pct_2016\": \"External health expenditure (% of current health expenditure)\"},\n",
    "    inplace=True\n",
    ")"
   ]
  },
  {
   "cell_type": "code",
   "execution_count": null,
   "metadata": {},
   "outputs": [],
   "source": [
    "# Count nulls in each column\n",
    "# data_df.isnull().sum()\n",
    "\n",
    "# Slice rows with null values out of original DataFrame\n",
    "# df1 = data_df[data_df.isnull().any(axis=1)] "
   ]
  },
  {
   "cell_type": "code",
   "execution_count": 4,
   "metadata": {},
   "outputs": [],
   "source": [
    "# Drop rows with null values in particular column\n",
    "data_df.dropna(\n",
    "    subset=['Health expenditure (% of GDP)'], \n",
    "    inplace=True\n",
    ")\n",
    "\n",
    "# Fill missing values with 0 for other rows and columns\n",
    "data_df.fillna(\n",
    "    value=0, \n",
    "    inplace=True\n",
    ")"
   ]
  },
  {
   "cell_type": "code",
   "execution_count": 5,
   "metadata": {},
   "outputs": [],
   "source": [
    "# Fetch country names for later use\n",
    "names = data_df['World_Bank_Name']"
   ]
  },
  {
   "cell_type": "code",
   "execution_count": 7,
   "metadata": {},
   "outputs": [],
   "source": [
    "# Encode Completeness of death registration column as 0/1 values with 0 for either missing \n",
    "# or lower than the threshold of 98% and 1 for value above the threshold,\n",
    "# we assume this indicates policital transparency of healthcare systems\n",
    "data_df['Transparency'] = data_df['Completeness_of_death_reg_2008-16'] > 98\n",
    "\n",
    "# Convert boolean array to numerical \n",
    "data_df['Transparency'] = data_df['Transparency'].astype(int)\n",
    "\n",
    "# Drop original column containing scores and null values\n",
    "data_df.drop('Completeness_of_death_reg_2008-16',axis=1, inplace=True)"
   ]
  },
  {
   "cell_type": "code",
   "execution_count": 26,
   "metadata": {},
   "outputs": [
    {
     "data": {
      "text/html": [
       "<div>\n",
       "<style scoped>\n",
       "    .dataframe tbody tr th:only-of-type {\n",
       "        vertical-align: middle;\n",
       "    }\n",
       "\n",
       "    .dataframe tbody tr th {\n",
       "        vertical-align: top;\n",
       "    }\n",
       "\n",
       "    .dataframe thead th {\n",
       "        text-align: right;\n",
       "    }\n",
       "</style>\n",
       "<table border=\"1\" class=\"dataframe\">\n",
       "  <thead>\n",
       "    <tr style=\"text-align: right;\">\n",
       "      <th></th>\n",
       "      <th>Health expenditure (% of GDP)</th>\n",
       "      <th>Domestic general government health expenditure (% of health expenditure)</th>\n",
       "      <th>Out-of-pocket expenditure (% of health expenditure)</th>\n",
       "      <th>Health expenditure per capita (current US$)</th>\n",
       "      <th>Current health expenditure per capita, PPP (current international $)</th>\n",
       "      <th>External health expenditure (% of current health expenditure)</th>\n",
       "      <th>Transparency</th>\n",
       "    </tr>\n",
       "    <tr>\n",
       "      <th>World_Bank_Name</th>\n",
       "      <th></th>\n",
       "      <th></th>\n",
       "      <th></th>\n",
       "      <th></th>\n",
       "      <th></th>\n",
       "      <th></th>\n",
       "      <th></th>\n",
       "    </tr>\n",
       "  </thead>\n",
       "  <tbody>\n",
       "    <tr>\n",
       "      <th>Afghanistan</th>\n",
       "      <td>10.2</td>\n",
       "      <td>5.1</td>\n",
       "      <td>77.4</td>\n",
       "      <td>57.2</td>\n",
       "      <td>162.8</td>\n",
       "      <td>17.5</td>\n",
       "      <td>0</td>\n",
       "    </tr>\n",
       "    <tr>\n",
       "      <th>Albania</th>\n",
       "      <td>6.7</td>\n",
       "      <td>41.4</td>\n",
       "      <td>58.0</td>\n",
       "      <td>271.5</td>\n",
       "      <td>759.7</td>\n",
       "      <td>0.7</td>\n",
       "      <td>0</td>\n",
       "    </tr>\n",
       "    <tr>\n",
       "      <th>Algeria</th>\n",
       "      <td>6.6</td>\n",
       "      <td>67.7</td>\n",
       "      <td>30.9</td>\n",
       "      <td>260.4</td>\n",
       "      <td>998.2</td>\n",
       "      <td>0.0</td>\n",
       "      <td>0</td>\n",
       "    </tr>\n",
       "    <tr>\n",
       "      <th>Andorra</th>\n",
       "      <td>10.4</td>\n",
       "      <td>49.1</td>\n",
       "      <td>41.7</td>\n",
       "      <td>3834.7</td>\n",
       "      <td>4978.7</td>\n",
       "      <td>0.0</td>\n",
       "      <td>0</td>\n",
       "    </tr>\n",
       "    <tr>\n",
       "      <th>Angola</th>\n",
       "      <td>2.9</td>\n",
       "      <td>44.1</td>\n",
       "      <td>35.2</td>\n",
       "      <td>95.2</td>\n",
       "      <td>185.8</td>\n",
       "      <td>3.6</td>\n",
       "      <td>0</td>\n",
       "    </tr>\n",
       "  </tbody>\n",
       "</table>\n",
       "</div>"
      ],
      "text/plain": [
       "                 Health expenditure (% of GDP)  \\\n",
       "World_Bank_Name                                  \n",
       "Afghanistan                               10.2   \n",
       "Albania                                    6.7   \n",
       "Algeria                                    6.6   \n",
       "Andorra                                   10.4   \n",
       "Angola                                     2.9   \n",
       "\n",
       "                 Domestic general government health expenditure (% of health expenditure)  \\\n",
       "World_Bank_Name                                                                             \n",
       "Afghanistan                                                    5.1                          \n",
       "Albania                                                       41.4                          \n",
       "Algeria                                                       67.7                          \n",
       "Andorra                                                       49.1                          \n",
       "Angola                                                        44.1                          \n",
       "\n",
       "                 Out-of-pocket expenditure (% of health expenditure)  \\\n",
       "World_Bank_Name                                                        \n",
       "Afghanistan                                                   77.4     \n",
       "Albania                                                       58.0     \n",
       "Algeria                                                       30.9     \n",
       "Andorra                                                       41.7     \n",
       "Angola                                                        35.2     \n",
       "\n",
       "                 Health expenditure per capita (current US$)  \\\n",
       "World_Bank_Name                                                \n",
       "Afghanistan                                             57.2   \n",
       "Albania                                                271.5   \n",
       "Algeria                                                260.4   \n",
       "Andorra                                               3834.7   \n",
       "Angola                                                  95.2   \n",
       "\n",
       "                 Current health expenditure per capita, PPP (current international $)  \\\n",
       "World_Bank_Name                                                                         \n",
       "Afghanistan                                                  162.8                      \n",
       "Albania                                                      759.7                      \n",
       "Algeria                                                      998.2                      \n",
       "Andorra                                                     4978.7                      \n",
       "Angola                                                       185.8                      \n",
       "\n",
       "                 External health expenditure (% of current health expenditure)  \\\n",
       "World_Bank_Name                                                                  \n",
       "Afghanistan                                                   17.5               \n",
       "Albania                                                        0.7               \n",
       "Algeria                                                        0.0               \n",
       "Andorra                                                        0.0               \n",
       "Angola                                                         3.6               \n",
       "\n",
       "                 Transparency  \n",
       "World_Bank_Name                \n",
       "Afghanistan                 0  \n",
       "Albania                     0  \n",
       "Algeria                     0  \n",
       "Andorra                     0  \n",
       "Angola                      0  "
      ]
     },
     "execution_count": 26,
     "metadata": {},
     "output_type": "execute_result"
    }
   ],
   "source": [
    "# See how data looks at this point\n",
    "data_df.set_index('World_Bank_Name', inplace=True)\n",
    "data_df.head()"
   ]
  },
  {
   "cell_type": "code",
   "execution_count": 30,
   "metadata": {},
   "outputs": [],
   "source": [
    "aid = data_df.loc[data_df['External health expenditure (% of current health expenditure)'] > 0]"
   ]
  },
  {
   "cell_type": "code",
   "execution_count": 9,
   "metadata": {
    "collapsed": true,
    "jupyter": {
     "outputs_hidden": true
    }
   },
   "outputs": [
    {
     "data": {
      "text/plain": [
       "<matplotlib.axes._subplots.AxesSubplot at 0x13001de50>"
      ]
     },
     "execution_count": 9,
     "metadata": {},
     "output_type": "execute_result"
    },
    {
     "data": {
      "image/png": "[encoded data removed]",
      "text/plain": [
       "<Figure size 1080x504 with 2 Axes>"
      ]
     },
     "metadata": {
      "needs_background": "light"
     },
     "output_type": "display_data"
    }
   ],
   "source": [
    "# Finding the relations between the variables in clean Df\n",
    "corr = data_df.corr()\n",
    "\n",
    "# Plot heatmap with seaborn\n",
    "plt.figure(figsize=(15,7))\n",
    "sns.heatmap(corr,cmap='BrBG',annot=True)"
   ]
  },
  {
   "cell_type": "markdown",
   "metadata": {},
   "source": [
    "# Data pre-processing"
   ]
  },
  {
   "cell_type": "code",
   "execution_count": 10,
   "metadata": {},
   "outputs": [],
   "source": [
    "# Create new DF to process and fit to model\n",
    "data_kmeans = data_df.copy()"
   ]
  },
  {
   "cell_type": "markdown",
   "metadata": {},
   "source": [
    "## Data scaling with StandardScaler"
   ]
  },
  {
   "cell_type": "code",
   "execution_count": 11,
   "metadata": {},
   "outputs": [
    {
     "name": "stdout",
     "output_type": "stream",
     "text": [
      "186\n"
     ]
    }
   ],
   "source": [
    "# Normalize data with StandardScaler class\n",
    "from sklearn.preprocessing import StandardScaler\n",
    "scaler = StandardScaler()\n",
    "\n",
    "# Fit and scale \n",
    "data_kmeans_scaled = scaler.fit_transform(data_kmeans)\n",
    "\n",
    "# Look at the array\n",
    "print(len(data_kmeans_scaled))"
   ]
  },
  {
   "cell_type": "markdown",
   "metadata": {},
   "source": [
    "## Data compressing with PCA"
   ]
  },
  {
   "cell_type": "code",
   "execution_count": 12,
   "metadata": {},
   "outputs": [
    {
     "name": "stdout",
     "output_type": "stream",
     "text": [
      "                         PC 1      PC 2      PC 3\n",
      "World_Bank_Name                                  \n",
      "Afghanistan         -2.385827 -0.531773  2.592451\n",
      "Albania             -1.120018 -1.018144  0.502206\n",
      "Algeria             -0.088456 -0.115044 -0.682784\n",
      "Andorra              1.821418 -0.446902  1.983478\n",
      "Angola              -1.309290 -0.517869 -0.899646\n",
      "Antigua and Barbuda -0.367960 -0.437397 -0.896599\n",
      "Argentina            1.482788 -0.048754 -0.918832\n",
      "Armenia             -1.651553 -1.460902  2.257282\n",
      "Australia            3.440384 -0.280855  0.833723\n",
      "Austria              3.758958 -0.177187  1.010274 \n",
      "\n",
      "Explained variance after applying PCA: 0.8316723331136312\n"
     ]
    }
   ],
   "source": [
    "# Compress data using PCA class\n",
    "from sklearn.decomposition import PCA\n",
    "pca = PCA(n_components=3)\n",
    "\n",
    "# Fit scaled data and compress to three dimensions\n",
    "data_pca = pca.fit_transform(data_kmeans_scaled)\n",
    "\n",
    "# Transform PCA output to DF\n",
    "data_pca_df = pd.DataFrame(\n",
    "        data=data_pca,\n",
    "        columns=['PC 1', 'PC 2', 'PC 3']\n",
    ")\n",
    "\n",
    "# Add country names to compressed df\n",
    "data_pca_df.set_index(names, inplace=True)\n",
    "\n",
    "# Look at the result\n",
    "print(data_pca_df.head(10),\"\\n\")\n",
    "\n",
    "# Fetch variance explained by three dimensions\n",
    "print(f\"Explained variance after applying PCA: {pca.explained_variance_ratio_.sum()}\")"
   ]
  },
  {
   "cell_type": "markdown",
   "metadata": {},
   "source": [
    "## K-Means"
   ]
  },
  {
   "cell_type": "code",
   "execution_count": 14,
   "metadata": {},
   "outputs": [],
   "source": [
    "# Initializing model with K = 4\n",
    "model_4 = KMeans(\n",
    "    n_clusters=4, \n",
    "    random_state=5\n",
    ")\n",
    "\n",
    "# Initializing model with K = 5\n",
    "model_5 = KMeans(\n",
    "    n_clusters=5, \n",
    "    random_state=5\n",
    ")\n",
    "\n",
    "# Initializing model with K = 6\n",
    "model_6 = KMeans(\n",
    "    n_clusters=6,\n",
    "    random_state=5\n",
    ")"
   ]
  },
  {
   "cell_type": "code",
   "execution_count": 22,
   "metadata": {},
   "outputs": [],
   "source": [
    "# Display entire DataFrame\n",
    "# with pd.option_context('display.max_rows', None, 'display.max_columns', None):  \n",
    "#     display(data_kmeans)\n",
    "\n",
    "# Display only certain cluster\n",
    "# data_kmeans.loc[data_kmeans['Cluster'] == 1]"
   ]
  },
  {
   "cell_type": "code",
   "execution_count": 23,
   "metadata": {},
   "outputs": [],
   "source": [
    "# Fitting model 5 with scaled and compressed data\n",
    "model_5.fit(data_pca)\n",
    "\n",
    "# Get predictions of scaled and compressed data\n",
    "predictions_5_pca = model_5.predict(data_pca)"
   ]
  },
  {
   "cell_type": "code",
   "execution_count": 24,
   "metadata": {},
   "outputs": [],
   "source": [
    "# Add new clusters PCA column to DF \n",
    "data_kmeans['Cluster'] = model_5.labels_"
   ]
  },
  {
   "cell_type": "markdown",
   "metadata": {},
   "source": [
    "# Visualization"
   ]
  },
  {
   "cell_type": "code",
   "execution_count": 25,
   "metadata": {},
   "outputs": [],
   "source": [
    "# Concat data into single df for visualization \n",
    "df_for_vis = pd.concat(\n",
    "    [data_kmeans, data_pca_df], \n",
    "    axis=1, \n",
    "    join='inner'\n",
    ")"
   ]
  },
  {
   "cell_type": "markdown",
   "metadata": {},
   "source": [
    "## 3D-Scatter"
   ]
  },
  {
   "cell_type": "code",
   "execution_count": 26,
   "metadata": {},
   "outputs": [
    {
     "data": {
      "application/vnd.plotly.v1+json": {
       "config": {
        "plotlyServerURL": "https://plot.ly"
       },
       "data": [
        {
         "hoverlabel": {
          "namelength": 0
         },
         "hovertemplate": "<b>%{hovertext}</b><br><br>PC 1=%{x}<br>PC 2=%{y}<br>PC 3=%{z}<br>Cluster=%{marker.color}",
         "hovertext": [
          "Afghanistan",
          "Albania",
          "Algeria",
          "Andorra",
          "Angola",
          "Antigua and Barbuda",
          "Argentina",
          "Armenia",
          "Australia",
          "Austria",
          "Azerbaijan",
          "Bahamas, The",
          "Bahrain",
          "Bangladesh",
          "Barbados",
          "Belarus",
          "Belgium",
          "Belize",
          "Benin",
          "Bhutan",
          "Bolivia",
          "Bosnia and Herzegovina",
          "Botswana",
          "Brazil",
          "Brunei Darussalam",
          "Bulgaria",
          "Burkina Faso",
          "Burundi",
          "Cabo Verde",
          "Cambodia",
          "Cameroon",
          "Canada",
          "Central African Republic",
          "Chad",
          "Chile",
          "China",
          "Colombia",
          "Comoros",
          "Congo, Dem. Rep.",
          "Congo, Rep.",
          "Costa Rica",
          "Cote d'Ivoire",
          "Croatia",
          "Cuba",
          "Cyprus",
          "Czech Republic",
          "Denmark",
          "Djibouti",
          "Dominica",
          "Dominican Republic",
          "Ecuador",
          "Egypt, Arab Rep.",
          "El Salvador",
          "Equatorial Guinea",
          "Eritrea",
          "Estonia",
          "Eswatini",
          "Ethiopia",
          "Fiji",
          "Finland",
          "France",
          "Gabon",
          "Gambia, The",
          "Georgia",
          "Germany",
          "Ghana",
          "Greece",
          "Grenada",
          "Guatemala",
          "Guinea",
          "Guinea-Bissau",
          "Guyana",
          "Haiti",
          "Honduras",
          "Hungary",
          "Iceland",
          "India",
          "Indonesia",
          "Iran, Islamic Rep.",
          "Iraq",
          "Ireland",
          "Israel",
          "Italy",
          "Jamaica",
          "Japan",
          "Jordan",
          "Kazakhstan",
          "Kenya",
          "Kiribati",
          "Korea, Rep.",
          "Kuwait",
          "Kyrgyz Republic",
          "Lao PDR",
          "Latvia",
          "Lebanon",
          "Lesotho",
          "Liberia",
          "Lithuania",
          "Luxembourg",
          "Madagascar",
          "Malawi",
          "Malaysia",
          "Maldives",
          "Mali",
          "Malta",
          "Marshall Islands",
          "Mauritania",
          "Mauritius",
          "Mexico",
          "Micronesia, Fed. Sts.",
          "Moldova",
          "Monaco",
          "Mongolia",
          "Montenegro",
          "Morocco",
          "Mozambique",
          "Myanmar",
          "Namibia",
          "Nepal",
          "Netherlands",
          "New Zealand",
          "Nicaragua",
          "Niger",
          "Nigeria",
          "North Macedonia",
          "Norway",
          "Oman",
          "Pakistan",
          "Palau",
          "Panama",
          "Papua New Guinea",
          "Paraguay",
          "Peru",
          "Philippines",
          "Poland",
          "Portugal",
          "Qatar",
          "Romania",
          "Russian Federation",
          "Rwanda",
          "Samoa",
          "San Marino",
          "Sao Tome and Principe",
          "Saudi Arabia",
          "Senegal",
          "Serbia",
          "Seychelles",
          "Sierra Leone",
          "Singapore",
          "Slovak Republic",
          "Slovenia",
          "Solomon Islands",
          "South Africa",
          "Spain",
          "Sri Lanka",
          "St. Kitts and Nevis",
          "St. Lucia",
          "St. Vincent and the Grenadines",
          "Sudan",
          "Suriname",
          "Sweden",
          "Switzerland",
          "Tajikistan",
          "Tanzania",
          "Thailand",
          "Timor-Leste",
          "Togo",
          "Tonga",
          "Trinidad and Tobago",
          "Tunisia",
          "Turkey",
          "Turkmenistan",
          "Tuvalu",
          "Uganda",
          "Ukraine",
          "United Arab Emirates",
          "United Kingdom",
          "United States",
          "Uruguay",
          "Uzbekistan",
          "Vanuatu",
          "Venezuela, RB",
          "Vietnam",
          "Yemen, Rep.",
          "Zambia",
          "Zimbabwe"
         ],
         "legendgroup": "",
         "marker": {
          "color": [
           1,
           1,
           0,
           4,
           0,
           0,
           3,
           1,
           4,
           4,
           1,
           0,
           0,
           1,
           0,
           0,
           4,
           0,
           1,
           0,
           0,
           0,
           0,
           1,
           3,
           0,
           2,
           2,
           0,
           1,
           1,
           4,
           2,
           1,
           3,
           0,
           0,
           1,
           2,
           1,
           0,
           1,
           3,
           3,
           0,
           3,
           4,
           2,
           0,
           0,
           0,
           1,
           0,
           1,
           1,
           3,
           0,
           1,
           0,
           4,
           4,
           0,
           2,
           1,
           4,
           1,
           3,
           0,
           1,
           1,
           2,
           0,
           2,
           1,
           3,
           4,
           1,
           0,
           0,
           1,
           4,
           3,
           3,
           0,
           4,
           0,
           0,
           2,
           2,
           3,
           3,
           1,
           1,
           0,
           0,
           2,
           2,
           3,
           4,
           2,
           2,
           0,
           3,
           2,
           3,
           2,
           1,
           0,
           0,
           2,
           1,
           3,
           0,
           3,
           1,
           2,
           1,
           0,
           1,
           4,
           4,
           0,
           1,
           1,
           0,
           4,
           3,
           1,
           2,
           0,
           0,
           0,
           0,
           1,
           3,
           3,
           3,
           3,
           0,
           2,
           0,
           3,
           2,
           3,
           1,
           0,
           3,
           2,
           3,
           3,
           3,
           2,
           0,
           3,
           1,
           1,
           1,
           3,
           1,
           3,
           4,
           4,
           1,
           2,
           0,
           2,
           1,
           2,
           0,
           0,
           0,
           1,
           2,
           2,
           0,
           3,
           4,
           4,
           3,
           1,
           2,
           0,
           0,
           1,
           2,
           2
          ],
          "coloraxis": "coloraxis",
          "symbol": "circle"
         },
         "mode": "markers",
         "name": "",
         "scene": "scene",
         "showlegend": false,
         "type": "scatter3d",
         "x": [
          -2.3858271064644643,
          -1.1200184928913672,
          -0.08845649095764685,
          1.8214179609439416,
          -1.309289983577892,
          -0.36795960302034625,
          1.4827881019368196,
          -1.6515530896359836,
          3.4403835064153787,
          3.7589581469163633,
          -1.736258257379907,
          0.1355621350865457,
          0.15505433728071685,
          -2.588716089415874,
          0.370064501529276,
          0.5174702092588946,
          3.6755070068707076,
          0.5582755093399816,
          -2.3803904273522067,
          -0.4098238627517653,
          -0.271682449030608,
          0.32692334839815507,
          -0.1191181334493453,
          -0.0795606830859296,
          0.812693244677914,
          0.48381095344702324,
          -1.3860035251938758,
          -1.9564768453724766,
          -0.8542242244361745,
          -2.1244866073683917,
          -2.4351677695812666,
          3.6279061104913217,
          -2.6658276747453313,
          -2.338653566955913,
          1.1600780211178932,
          -0.5383629345591571,
          -0.15199824626298633,
          -2.2495633401009987,
          -2.706262929565464,
          -1.4047631779420011,
          0.5220388143763685,
          -1.8464496546223015,
          1.5797329038884265,
          1.7991000910244666,
          -0.08050253510571193,
          1.9923939869167384,
          3.469884465822851,
          -1.5544062362893605,
          0.35709115692497384,
          -0.7711143081706675,
          -0.36532223409438647,
          -1.729436262730238,
          -0.20471461566260524,
          -1.9997062406021053,
          -2.193526452030184,
          1.5185935041074603,
          0.014795263794573842,
          -1.8465689353831827,
          0.2259582256319451,
          3.255663176896887,
          3.951018998881423,
          -0.48688318526826635,
          -2.3076288428415888,
          -1.0313035182868104,
          4.225395086363088,
          -1.5097987751792548,
          1.3669546860068895,
          -0.4152126583094082,
          -1.306084272136214,
          -2.4279786231595883,
          -1.3760755064430028,
          -0.8715679000770051,
          -2.4628463679574355,
          -0.833256537460697,
          1.2115356368503465,
          3.5780998831560358,
          -2.0282830851827263,
          -1.1970945663869361,
          -0.13758799999422452,
          -2.267711193686718,
          3.5942930976166854,
          1.9793178131811833,
          2.531030148234209,
          -0.28257346170620024,
          3.7873487528138776,
          -0.49382547879074223,
          -0.6857589419142565,
          -1.5212870650430996,
          0.5716860071048889,
          1.5233553748774034,
          0.9919469516865846,
          -1.4206362629382125,
          -2.0647968694667895,
          0.5103722484858134,
          -0.15370244561350593,
          -0.42817934564931454,
          -2.016332731059338,
          1.0971322480982295,
          4.388730210521868,
          -1.2041253049684568,
          -1.6081950198569614,
          -0.7500506745712461,
          0.9484458868451299,
          -2.069443025030498,
          2.0645653052797974,
          0.9541958097720508,
          -1.6999406574925282,
          -0.0022117798939885426,
          0.17659210632220843,
          -1.3205379921912375,
          -0.7384177769022547,
          1.3921499303895075,
          -0.901838908618642,
          1.2017398244686253,
          -1.0515626191183023,
          -1.1933619010339425,
          -2.238057617767055,
          0.2980114805153703,
          -2.0100053209716555,
          4.049534751635431,
          3.1357250297359855,
          -0.3001577957202163,
          -2.0146921025697355,
          -2.6266443230667114,
          0.4983552821470638,
          5.102749451240099,
          1.1631037058020273,
          -2.163691620892097,
          0.8303980752760558,
          0.40385329824085164,
          -0.8243115607259599,
          -0.4421244171465654,
          -0.335771501502717,
          -1.6456518085312828,
          1.224274160215785,
          1.87283732022479,
          1.4953794173945456,
          1.0243628233004152,
          0.35859563885544,
          -1.612582722892942,
          -0.10753481971117759,
          1.8987176264830417,
          -1.5477353192849521,
          0.94992503361045,
          -1.604616729263357,
          -0.05484286116719128,
          1.5671950925747329,
          -1.5263331924512418,
          0.9349986659963015,
          1.7769091156539973,
          2.1992650774613205,
          -0.5523972916280359,
          0.17630157490353693,
          2.3211343759101926,
          -1.329269410010379,
          -0.6715276798991359,
          -1.1062271855999413,
          0.5864467571201523,
          -2.0970206337184116,
          0.8027516092171167,
          4.3845886235496865,
          5.684366786719753,
          -1.7785549681764623,
          -1.7155865838372875,
          0.04086279916298775,
          -1.1058966853874153,
          -2.063118044674592,
          -0.5013742489301025,
          0.012285588642878695,
          -0.476462016746986,
          0.2307649215905659,
          -1.7257644055472818,
          1.2651115565735638,
          -2.373445529765077,
          -0.35995844626883594,
          0.6562492113811081,
          3.4005359519069573,
          6.610160685325381,
          1.7976116656167493,
          -1.113837139333472,
          -1.213421446312831,
          -0.28890727903653785,
          -1.0607870036954647,
          -2.578226562493147,
          -1.6578295844309938,
          -0.8587637048610428
         ],
         "y": [
          -0.5317732867996173,
          -1.0181444275769544,
          -0.11504395548676206,
          -0.44690239938877657,
          -0.5178690176313298,
          -0.43739703268306684,
          -0.048754419643038505,
          -1.4609021170398744,
          -0.28085513939805345,
          -0.1771868711758448,
          -1.7826932184187134,
          -0.17225006372884769,
          -0.3017488023109172,
          -1.610766771380269,
          -1.0815546496215156,
          -0.8341174086928398,
          -0.021036583150112517,
          -0.21848782382227577,
          0.6038712519954113,
          0.21423159803851297,
          0.18646161859270574,
          0.23606954165624733,
          0.840724318946153,
          -0.19585201091000695,
          0.3143535531434322,
          -1.1052324182918387,
          1.0111526197289313,
          1.7018477388969668,
          0.647992013464658,
          -0.22882148708317793,
          -1.2407899286367676,
          0.0050649254636302675,
          1.167554545852132,
          -0.7018805718569923,
          -0.6680310441030121,
          -0.47411760462823016,
          0.22636693005177347,
          -0.9637023326628279,
          1.4152571576324273,
          -0.8125733996057157,
          0.279387039830656,
          -0.016726671929583603,
          -0.08630509900604788,
          1.115965643492062,
          -0.6819385741680937,
          -0.11752666547517845,
          0.5355195223105391,
          1.0899521716743732,
          -0.4234585526803662,
          -0.6569661123338095,
          -0.2889707327906255,
          -1.387644409634003,
          0.16127783212956862,
          -1.8815836826968944,
          -0.8876380443591528,
          -0.3874665375274047,
          1.377119998815143,
          0.05482770544357063,
          -0.4505961039252269,
          -0.2146138394009803,
          0.3053815451674791,
          -0.16630683489393489,
          1.938978829388784,
          -0.7139500841493878,
          0.14658368580540918,
          0.003171967984526657,
          -0.6479312928069499,
          -1.670223045598575,
          -0.9627188494525046,
          0.36391086546961166,
          0.6742307591421327,
          -0.19640372941578285,
          1.1934995874518604,
          -0.2781742787299396,
          -0.5799155393427414,
          -0.24265375324515676,
          -1.5640059813500544,
          -0.7326211702820913,
          -0.301859520077099,
          -2.098069547204851,
          -0.31171783164156835,
          -0.4211020822000992,
          -0.30233227818316755,
          0.1413471744334595,
          0.14458153561959242,
          0.1573128247094755,
          -0.5558553985207457,
          0.6580279581320875,
          2.3507889857677715,
          -0.802091582716491,
          0.019977531332521076,
          -0.8619260353763877,
          -0.22198574467535478,
          -1.1954700438958388,
          -0.06350499691129285,
          1.3213312567054676,
          1.0215229947075015,
          -0.6837504827402457,
          -0.36811929751424344,
          1.3260467982657866,
          3.4309390175809305,
          -0.702724685676293,
          0.656627135625988,
          0.9882130793002661,
          -0.6699668357761959,
          4.015694119211863,
          -0.6611126203558317,
          -1.3721404992874564,
          -1.1095546337621336,
          4.755569716662073,
          -0.21347390555587642,
          -0.010036020123716117,
          -0.3820808193810225,
          -0.27769887418233336,
          -0.7783400329794287,
          2.3812647886238305,
          -1.4833739569400575,
          1.1805609497653942,
          -0.49290309945235516,
          0.09302067840624886,
          0.0015582017703350793,
          0.29544010334676857,
          -0.4963116709431408,
          -1.5071376692347307,
          -0.7738917331570951,
          -0.08823198565580355,
          0.41405160989381146,
          -1.4974111370849028,
          1.582705650255266,
          0.030058938245119914,
          1.313173711196008,
          -0.2558080982574904,
          -0.17882706588317238,
          -1.0789494918532438,
          -0.42298712580030634,
          -0.40823015884580266,
          0.08111800579853273,
          -0.4363801273763422,
          -1.1270816164972335,
          3.1371345499071723,
          0.9861318920670769,
          0.07915439895445928,
          2.5268580258781617,
          0.16559698251531432,
          -0.6667316622286565,
          -0.21672278697255815,
          0.20471645794226062,
          2.4494377305842923,
          -0.6270940319515897,
          -0.19373661878475484,
          0.04158132806932865,
          1.9495128109510944,
          0.7635295853266106,
          -0.3123854275361439,
          -1.020475081837694,
          -1.0047603740586124,
          -0.7230273368820791,
          -0.5068553381402724,
          -1.6145013121937117,
          -0.31308873166675893,
          0.012267744919152196,
          -0.6352875943670863,
          -1.0388512244974717,
          1.6888144273037289,
          0.24202087639371933,
          1.9041307739156486,
          0.1644604745766395,
          1.3848806748544025,
          -0.5597186348563498,
          -0.3898410757780661,
          0.13095887389079597,
          -1.7493509163063692,
          2.4563558399254752,
          1.4275424701457453,
          -1.3868753516471526,
          -0.14424186570879732,
          -0.006729366966129233,
          0.9356674068974071,
          -0.010007430194953898,
          -0.8113323574439032,
          2.0326238633424496,
          -1.5059224077840365,
          -0.5746755986637047,
          -1.5906691265881683,
          2.3278973463353885,
          1.7171824620751068
         ],
         "z": [
          2.5924505319150346,
          0.5022058224098951,
          -0.6827840432157254,
          1.9834781475261987,
          -0.8996457082333165,
          -0.8965992629892828,
          -0.9188319068986655,
          2.257281970887839,
          0.8337231514042192,
          1.0102739260952784,
          1.5373816644706215,
          -0.025125536720863192,
          -0.669108184396772,
          0.4259426004379101,
          0.29192721776469477,
          -0.613603298849735,
          0.41150755441556647,
          -1.0791066376067369,
          0.40678162201163803,
          -1.7484952517208603,
          -0.6697608976588257,
          -0.2158930206313658,
          -1.0855876047091855,
          1.6852718182421653,
          -2.5506907236023775,
          0.3959047150239129,
          0.18916265700339616,
          0.5154726190294052,
          -0.705939155804294,
          1.0052621658187084,
          0.9906984665777598,
          0.7918296655846039,
          0.7564279028678208,
          0.7077286898081544,
          0.15979103358545135,
          -0.6874909885112706,
          -0.9133541157172725,
          1.6451658657243475,
          0.6490846197648994,
          -0.1945384651568978,
          -0.6722322460188261,
          0.0931065663198134,
          -1.0726525269760012,
          -0.14559409924732153,
          0.7171630283908813,
          -0.992862130787601,
          0.9282965883816658,
          -0.6604768592708986,
          -1.0090571321387447,
          0.06098569002055939,
          0.3103081924442602,
          0.37862056906303493,
          -0.6239382980343523,
          0.5779520797619055,
          0.07358976613892226,
          -0.8518715759070872,
          -0.794858874019751,
          -0.10392658363370956,
          -1.6709246650574794,
          0.4751975621822529,
          0.6482736183460768,
          -1.5646989504348296,
          0.3190672575780905,
          0.9409370025604632,
          0.7642482844960882,
          -0.27140243547323845,
          0.20116232716444873,
          0.088086851175799,
          0.2666480123045596,
          1.0086725350804582,
          -0.012860586227604347,
          -0.8960327065538474,
          0.9152775972167002,
          0.43586830707210517,
          -0.3950125259142054,
          0.2608000643853605,
          0.28866815655469386,
          -0.8481908802010166,
          0.20135952070602123,
          0.651112559570629,
          0.2935849285912022,
          0.02180465759991505,
          0.119114296656476,
          -0.8497247133204637,
          0.5588849702240135,
          -0.8579625423747548,
          -1.011216031627007,
          -0.32525657096300126,
          -0.40068855430046263,
          0.12871496703788082,
          -1.5012345270321352,
          0.4546722147251442,
          -0.2805507040961312,
          -0.12423008707928196,
          0.08971400700686046,
          -0.4231486552579901,
          1.8001766306532636,
          -0.4477057910764456,
          0.2618380541821381,
          -0.32366483736620016,
          1.1020069571543754,
          -0.6919236589047464,
          0.009005322975662556,
          -0.01708072011398179,
          0.646677167915097,
          3.229875833952742,
          -0.06612490624323974,
          -0.022351674980044006,
          -0.46718820926449695,
          1.8347306301351527,
          0.5361727462272965,
          -1.6758460813652631,
          -0.9324326504036471,
          -0.8418551116257879,
          -0.07061119245134037,
          -0.7582164391423162,
          0.9812494010837396,
          -0.418928261562305,
          0.9204199313200366,
          0.6610422891974678,
          0.10273302305546285,
          -0.09706552490264184,
          0.8419364994675916,
          0.9148969645767445,
          -0.6926455307287702,
          1.308777699828009,
          -1.850074210352111,
          0.0921797393333751,
          0.8074830580774729,
          -0.3048457997994862,
          -1.9976867530738018,
          0.09852120348430049,
          -0.992942155396481,
          0.10518080934557676,
          -0.8598718537805747,
          0.1757444966995053,
          -1.4881002678091455,
          -1.559732244065598,
          -0.5647264504219383,
          0.20514973560525937,
          -1.4476177517136977,
          -0.35365500092583746,
          0.009285828789625975,
          -0.7658381778344525,
          0.23257061607535906,
          0.34608539025702667,
          -2.5431644069974633,
          3.335480302298623,
          0.04464424079715903,
          -0.955245302390541,
          -0.41927941616617437,
          -1.323604702594528,
          -0.4953684722093843,
          0.13928416349358266,
          -0.33269920776963124,
          0.33138849596757786,
          0.07684593572398889,
          -1.955311606982184,
          1.0755426749486294,
          -1.1489194216178988,
          0.9907779614113652,
          3.1692360274681177,
          0.9786634386486107,
          -0.38135307364688603,
          -1.97353996140717,
          -1.0928733232428296,
          0.9707925764957744,
          -1.1486719306213287,
          0.15364406385452992,
          -0.1805285191375015,
          -1.6545428105358613,
          1.4667653252206043,
          0.27057149112861484,
          1.0522090700378324,
          0.1896601450870632,
          -1.2720179369723421,
          0.33617311115911813,
          3.775062291752652,
          -0.36599615371531513,
          0.12188425773614049,
          -1.0707303783661533,
          -0.1050762665289831,
          -0.18949789590008947,
          1.4699209742879067,
          -0.3550981113161301,
          0.4004772337579671
         ]
        }
       ],
       "layout": {
        "autosize": true,
        "coloraxis": {
         "colorbar": {
          "title": {
           "text": "Cluster"
          }
         },
         "colorscale": [
          [
           0,
           "#0d0887"
          ],
          [
           0.1111111111111111,
           "#46039f"
          ],
          [
           0.2222222222222222,
           "#7201a8"
          ],
          [
           0.3333333333333333,
           "#9c179e"
          ],
          [
           0.4444444444444444,
           "#bd3786"
          ],
          [
           0.5555555555555556,
           "#d8576b"
          ],
          [
           0.6666666666666666,
           "#ed7953"
          ],
          [
           0.7777777777777778,
           "#fb9f3a"
          ],
          [
           0.8888888888888888,
           "#fdca26"
          ],
          [
           1,
           "#f0f921"
          ]
         ]
        },
        "legend": {
         "tracegroupgap": 0,
         "x": 0,
         "y": 1
        },
        "margin": {
         "t": 60
        },
        "scene": {
         "aspectmode": "auto",
         "aspectratio": {
          "x": 1.260341762823301,
          "y": 0.927172072529061,
          "z": 0.855758715588501
         },
         "camera": {
          "center": {
           "x": 0,
           "y": 0,
           "z": 0
          },
          "eye": {
           "x": 0.10887822931401567,
           "y": 0.10887822931401564,
           "z": 0.10887822931401564
          },
          "projection": {
           "type": "perspective"
          },
          "up": {
           "x": 0,
           "y": 0,
           "z": 1
          }
         },
         "domain": {
          "x": [
           0,
           1
          ],
          "y": [
           0,
           1
          ]
         },
         "xaxis": {
          "title": {
           "text": "PC 1"
          },
          "type": "linear"
         },
         "yaxis": {
          "title": {
           "text": "PC 2"
          },
          "type": "linear"
         },
         "zaxis": {
          "title": {
           "text": "PC 3"
          },
          "type": "linear"
         }
        },
        "template": {
         "data": {
          "bar": [
           {
            "error_x": {
             "color": "#2a3f5f"
            },
            "error_y": {
             "color": "#2a3f5f"
            },
            "marker": {
             "line": {
              "color": "#E5ECF6",
              "width": 0.5
             }
            },
            "type": "bar"
           }
          ],
          "barpolar": [
           {
            "marker": {
             "line": {
              "color": "#E5ECF6",
              "width": 0.5
             }
            },
            "type": "barpolar"
           }
          ],
          "carpet": [
           {
            "aaxis": {
             "endlinecolor": "#2a3f5f",
             "gridcolor": "white",
             "linecolor": "white",
             "minorgridcolor": "white",
             "startlinecolor": "#2a3f5f"
            },
            "baxis": {
             "endlinecolor": "#2a3f5f",
             "gridcolor": "white",
             "linecolor": "white",
             "minorgridcolor": "white",
             "startlinecolor": "#2a3f5f"
            },
            "type": "carpet"
           }
          ],
          "choropleth": [
           {
            "colorbar": {
             "outlinewidth": 0,
             "ticks": ""
            },
            "type": "choropleth"
           }
          ],
          "contour": [
           {
            "colorbar": {
             "outlinewidth": 0,
             "ticks": ""
            },
            "colorscale": [
             [
              0,
              "#0d0887"
             ],
             [
              0.1111111111111111,
              "#46039f"
             ],
             [
              0.2222222222222222,
              "#7201a8"
             ],
             [
              0.3333333333333333,
              "#9c179e"
             ],
             [
              0.4444444444444444,
              "#bd3786"
             ],
             [
              0.5555555555555556,
              "#d8576b"
             ],
             [
              0.6666666666666666,
              "#ed7953"
             ],
             [
              0.7777777777777778,
              "#fb9f3a"
             ],
             [
              0.8888888888888888,
              "#fdca26"
             ],
             [
              1,
              "#f0f921"
             ]
            ],
            "type": "contour"
           }
          ],
          "contourcarpet": [
           {
            "colorbar": {
             "outlinewidth": 0,
             "ticks": ""
            },
            "type": "contourcarpet"
           }
          ],
          "heatmap": [
           {
            "colorbar": {
             "outlinewidth": 0,
             "ticks": ""
            },
            "colorscale": [
             [
              0,
              "#0d0887"
             ],
             [
              0.1111111111111111,
              "#46039f"
             ],
             [
              0.2222222222222222,
              "#7201a8"
             ],
             [
              0.3333333333333333,
              "#9c179e"
             ],
             [
              0.4444444444444444,
              "#bd3786"
             ],
             [
              0.5555555555555556,
              "#d8576b"
             ],
             [
              0.6666666666666666,
              "#ed7953"
             ],
             [
              0.7777777777777778,
              "#fb9f3a"
             ],
             [
              0.8888888888888888,
              "#fdca26"
             ],
             [
              1,
              "#f0f921"
             ]
            ],
            "type": "heatmap"
           }
          ],
          "heatmapgl": [
           {
            "colorbar": {
             "outlinewidth": 0,
             "ticks": ""
            },
            "colorscale": [
             [
              0,
              "#0d0887"
             ],
             [
              0.1111111111111111,
              "#46039f"
             ],
             [
              0.2222222222222222,
              "#7201a8"
             ],
             [
              0.3333333333333333,
              "#9c179e"
             ],
             [
              0.4444444444444444,
              "#bd3786"
             ],
             [
              0.5555555555555556,
              "#d8576b"
             ],
             [
              0.6666666666666666,
              "#ed7953"
             ],
             [
              0.7777777777777778,
              "#fb9f3a"
             ],
             [
              0.8888888888888888,
              "#fdca26"
             ],
             [
              1,
              "#f0f921"
             ]
            ],
            "type": "heatmapgl"
           }
          ],
          "histogram": [
           {
            "marker": {
             "colorbar": {
              "outlinewidth": 0,
              "ticks": ""
             }
            },
            "type": "histogram"
           }
          ],
          "histogram2d": [
           {
            "colorbar": {
             "outlinewidth": 0,
             "ticks": ""
            },
            "colorscale": [
             [
              0,
              "#0d0887"
             ],
             [
              0.1111111111111111,
              "#46039f"
             ],
             [
              0.2222222222222222,
              "#7201a8"
             ],
             [
              0.3333333333333333,
              "#9c179e"
             ],
             [
              0.4444444444444444,
              "#bd3786"
             ],
             [
              0.5555555555555556,
              "#d8576b"
             ],
             [
              0.6666666666666666,
              "#ed7953"
             ],
             [
              0.7777777777777778,
              "#fb9f3a"
             ],
             [
              0.8888888888888888,
              "#fdca26"
             ],
             [
              1,
              "#f0f921"
             ]
            ],
            "type": "histogram2d"
           }
          ],
          "histogram2dcontour": [
           {
            "colorbar": {
             "outlinewidth": 0,
             "ticks": ""
            },
            "colorscale": [
             [
              0,
              "#0d0887"
             ],
             [
              0.1111111111111111,
              "#46039f"
             ],
             [
              0.2222222222222222,
              "#7201a8"
             ],
             [
              0.3333333333333333,
              "#9c179e"
             ],
             [
              0.4444444444444444,
              "#bd3786"
             ],
             [
              0.5555555555555556,
              "#d8576b"
             ],
             [
              0.6666666666666666,
              "#ed7953"
             ],
             [
              0.7777777777777778,
              "#fb9f3a"
             ],
             [
              0.8888888888888888,
              "#fdca26"
             ],
             [
              1,
              "#f0f921"
             ]
            ],
            "type": "histogram2dcontour"
           }
          ],
          "mesh3d": [
           {
            "colorbar": {
             "outlinewidth": 0,
             "ticks": ""
            },
            "type": "mesh3d"
           }
          ],
          "parcoords": [
           {
            "line": {
             "colorbar": {
              "outlinewidth": 0,
              "ticks": ""
             }
            },
            "type": "parcoords"
           }
          ],
          "pie": [
           {
            "automargin": true,
            "type": "pie"
           }
          ],
          "scatter": [
           {
            "marker": {
             "colorbar": {
              "outlinewidth": 0,
              "ticks": ""
             }
            },
            "type": "scatter"
           }
          ],
          "scatter3d": [
           {
            "line": {
             "colorbar": {
              "outlinewidth": 0,
              "ticks": ""
             }
            },
            "marker": {
             "colorbar": {
              "outlinewidth": 0,
              "ticks": ""
             }
            },
            "type": "scatter3d"
           }
          ],
          "scattercarpet": [
           {
            "marker": {
             "colorbar": {
              "outlinewidth": 0,
              "ticks": ""
             }
            },
            "type": "scattercarpet"
           }
          ],
          "scattergeo": [
           {
            "marker": {
             "colorbar": {
              "outlinewidth": 0,
              "ticks": ""
             }
            },
            "type": "scattergeo"
           }
          ],
          "scattergl": [
           {
            "marker": {
             "colorbar": {
              "outlinewidth": 0,
              "ticks": ""
             }
            },
            "type": "scattergl"
           }
          ],
          "scattermapbox": [
           {
            "marker": {
             "colorbar": {
              "outlinewidth": 0,
              "ticks": ""
             }
            },
            "type": "scattermapbox"
           }
          ],
          "scatterpolar": [
           {
            "marker": {
             "colorbar": {
              "outlinewidth": 0,
              "ticks": ""
             }
            },
            "type": "scatterpolar"
           }
          ],
          "scatterpolargl": [
           {
            "marker": {
             "colorbar": {
              "outlinewidth": 0,
              "ticks": ""
             }
            },
            "type": "scatterpolargl"
           }
          ],
          "scatterternary": [
           {
            "marker": {
             "colorbar": {
              "outlinewidth": 0,
              "ticks": ""
             }
            },
            "type": "scatterternary"
           }
          ],
          "surface": [
           {
            "colorbar": {
             "outlinewidth": 0,
             "ticks": ""
            },
            "colorscale": [
             [
              0,
              "#0d0887"
             ],
             [
              0.1111111111111111,
              "#46039f"
             ],
             [
              0.2222222222222222,
              "#7201a8"
             ],
             [
              0.3333333333333333,
              "#9c179e"
             ],
             [
              0.4444444444444444,
              "#bd3786"
             ],
             [
              0.5555555555555556,
              "#d8576b"
             ],
             [
              0.6666666666666666,
              "#ed7953"
             ],
             [
              0.7777777777777778,
              "#fb9f3a"
             ],
             [
              0.8888888888888888,
              "#fdca26"
             ],
             [
              1,
              "#f0f921"
             ]
            ],
            "type": "surface"
           }
          ],
          "table": [
           {
            "cells": {
             "fill": {
              "color": "#EBF0F8"
             },
             "line": {
              "color": "white"
             }
            },
            "header": {
             "fill": {
              "color": "#C8D4E3"
             },
             "line": {
              "color": "white"
             }
            },
            "type": "table"
           }
          ]
         },
         "layout": {
          "annotationdefaults": {
           "arrowcolor": "#2a3f5f",
           "arrowhead": 0,
           "arrowwidth": 1
          },
          "coloraxis": {
           "colorbar": {
            "outlinewidth": 0,
            "ticks": ""
           }
          },
          "colorscale": {
           "diverging": [
            [
             0,
             "#8e0152"
            ],
            [
             0.1,
             "#c51b7d"
            ],
            [
             0.2,
             "#de77ae"
            ],
            [
             0.3,
             "#f1b6da"
            ],
            [
             0.4,
             "#fde0ef"
            ],
            [
             0.5,
             "#f7f7f7"
            ],
            [
             0.6,
             "#e6f5d0"
            ],
            [
             0.7,
             "#b8e186"
            ],
            [
             0.8,
             "#7fbc41"
            ],
            [
             0.9,
             "#4d9221"
            ],
            [
             1,
             "#276419"
            ]
           ],
           "sequential": [
            [
             0,
             "#0d0887"
            ],
            [
             0.1111111111111111,
             "#46039f"
            ],
            [
             0.2222222222222222,
             "#7201a8"
            ],
            [
             0.3333333333333333,
             "#9c179e"
            ],
            [
             0.4444444444444444,
             "#bd3786"
            ],
            [
             0.5555555555555556,
             "#d8576b"
            ],
            [
             0.6666666666666666,
             "#ed7953"
            ],
            [
             0.7777777777777778,
             "#fb9f3a"
            ],
            [
             0.8888888888888888,
             "#fdca26"
            ],
            [
             1,
             "#f0f921"
            ]
           ],
           "sequentialminus": [
            [
             0,
             "#0d0887"
            ],
            [
             0.1111111111111111,
             "#46039f"
            ],
            [
             0.2222222222222222,
             "#7201a8"
            ],
            [
             0.3333333333333333,
             "#9c179e"
            ],
            [
             0.4444444444444444,
             "#bd3786"
            ],
            [
             0.5555555555555556,
             "#d8576b"
            ],
            [
             0.6666666666666666,
             "#ed7953"
            ],
            [
             0.7777777777777778,
             "#fb9f3a"
            ],
            [
             0.8888888888888888,
             "#fdca26"
            ],
            [
             1,
             "#f0f921"
            ]
           ]
          },
          "colorway": [
           "#636efa",
           "#EF553B",
           "#00cc96",
           "#ab63fa",
           "#FFA15A",
           "#19d3f3",
           "#FF6692",
           "#B6E880",
           "#FF97FF",
           "#FECB52"
          ],
          "font": {
           "color": "#2a3f5f"
          },
          "geo": {
           "bgcolor": "white",
           "lakecolor": "white",
           "landcolor": "#E5ECF6",
           "showlakes": true,
           "showland": true,
           "subunitcolor": "white"
          },
          "hoverlabel": {
           "align": "left"
          },
          "hovermode": "closest",
          "mapbox": {
           "style": "light"
          },
          "paper_bgcolor": "white",
          "plot_bgcolor": "#E5ECF6",
          "polar": {
           "angularaxis": {
            "gridcolor": "white",
            "linecolor": "white",
            "ticks": ""
           },
           "bgcolor": "#E5ECF6",
           "radialaxis": {
            "gridcolor": "white",
            "linecolor": "white",
            "ticks": ""
           }
          },
          "scene": {
           "xaxis": {
            "backgroundcolor": "#E5ECF6",
            "gridcolor": "white",
            "gridwidth": 2,
            "linecolor": "white",
            "showbackground": true,
            "ticks": "",
            "zerolinecolor": "white"
           },
           "yaxis": {
            "backgroundcolor": "#E5ECF6",
            "gridcolor": "white",
            "gridwidth": 2,
            "linecolor": "white",
            "showbackground": true,
            "ticks": "",
            "zerolinecolor": "white"
           },
           "zaxis": {
            "backgroundcolor": "#E5ECF6",
            "gridcolor": "white",
            "gridwidth": 2,
            "linecolor": "white",
            "showbackground": true,
            "ticks": "",
            "zerolinecolor": "white"
           }
          },
          "shapedefaults": {
           "line": {
            "color": "#2a3f5f"
           }
          },
          "ternary": {
           "aaxis": {
            "gridcolor": "white",
            "linecolor": "white",
            "ticks": ""
           },
           "baxis": {
            "gridcolor": "white",
            "linecolor": "white",
            "ticks": ""
           },
           "bgcolor": "#E5ECF6",
           "caxis": {
            "gridcolor": "white",
            "linecolor": "white",
            "ticks": ""
           }
          },
          "title": {
           "x": 0.05
          },
          "xaxis": {
           "automargin": true,
           "gridcolor": "white",
           "linecolor": "white",
           "ticks": "",
           "title": {
            "standoff": 15
           },
           "zerolinecolor": "white",
           "zerolinewidth": 2
          },
          "yaxis": {
           "automargin": true,
           "gridcolor": "white",
           "linecolor": "white",
           "ticks": "",
           "title": {
            "standoff": 15
           },
           "zerolinecolor": "white",
           "zerolinewidth": 2
          }
         }
        }
       }
      },
      "image/png": "[encoded data removed]"
     },
     "metadata": {},
     "output_type": "display_data"
    }
   ],
   "source": [
    "# Create a 3D-Scatter with the PCA data and the clusters\n",
    "scatter3d = px.scatter_3d(\n",
    "    df_for_vis,\n",
    "    x=\"PC 1\",\n",
    "    y=\"PC 2\",\n",
    "    z=\"PC 3\",\n",
    "    width=600,\n",
    "    color='Cluster',\n",
    "    hover_name = names\n",
    ")\n",
    "\n",
    "scatter3d.update_layout(legend=dict(x=0, y=1))\n",
    "scatter3d.show()"
   ]
  },
  {
   "cell_type": "markdown",
   "metadata": {},
   "source": [
    "# Clustering evaluation"
   ]
  },
  {
   "cell_type": "code",
   "execution_count": 27,
   "metadata": {},
   "outputs": [
    {
     "name": "stdout",
     "output_type": "stream",
     "text": [
      "Low     137\n",
      "High     49\n",
      "Name: Health systems development level, dtype: int64\n"
     ]
    }
   ],
   "source": [
    "# Idea for health development level score\n",
    "\n",
    "# Mean for expenditure per capita is 1037\n",
    "data_kmeans[\"Health expenditure per capita (current US$)\"].describe()\n",
    "\n",
    "# Assign either high or low IF value is above or below 1037 for health expediture per capita\n",
    "data_kmeans['Health systems development level']=[\"High\" if i>1037 else \"Low\" for i in data_kmeans['Health expenditure per capita (current US$)']]\n",
    "\n",
    "# Print value count for both groups\n",
    "print(data_kmeans['Health systems development level'].value_counts(dropna=False))"
   ]
  },
  {
   "cell_type": "code",
   "execution_count": 28,
   "metadata": {},
   "outputs": [],
   "source": [
    "# Look at the distribution of values sorted by healh systems development level \n",
    "# data_kmeans.boxplot(column='Health expenditure per capita (current US$)',by='Health systems development level',figsize=(6,12))"
   ]
  },
  {
   "cell_type": "code",
   "execution_count": 29,
   "metadata": {},
   "outputs": [
    {
     "name": "stdout",
     "output_type": "stream",
     "text": [
      "Worst      136\n",
      "Bad         22\n",
      "Good        15\n",
      "Average     11\n",
      "Best         2\n",
      "Name: Category, dtype: int64\n"
     ]
    }
   ],
   "source": [
    "# Assign new value based on defined \n",
    "data_kmeans['Category']=[\"Best\" if i>8000 else \"Good\" if 4000<i<8000 else \"Average\" if 2000<i<4000 else \"Bad\" if 1000<i<2000 else \"Worst\" for i in data_kmeans['Health expenditure per capita (current US$)']]\n",
    "\n",
    "# Print value count for both groups\n",
    "print(data_kmeans['Category'].value_counts(dropna=False))"
   ]
  },
  {
   "cell_type": "code",
   "execution_count": 30,
   "metadata": {},
   "outputs": [
    {
     "data": {
      "application/vnd.plotly.v1+json": {
       "config": {
        "plotlyServerURL": "https://plot.ly"
       },
       "data": [
        {
         "alignmentgroup": "True",
         "boxpoints": "all",
         "hoverlabel": {
          "namelength": 0
         },
         "hovertemplate": "Health systems development level=%{x}<br>External health expenditure (% of current health expenditure)=%{y}",
         "legendgroup": "",
         "marker": {
          "color": "#636efa"
         },
         "name": "",
         "notched": false,
         "offsetgroup": "",
         "orientation": "v",
         "showlegend": false,
         "type": "box",
         "x": [
          "Low",
          "Low",
          "Low",
          "High",
          "Low",
          "Low",
          "Low",
          "Low",
          "High",
          "High",
          "Low",
          "High",
          "High",
          "Low",
          "High",
          "Low",
          "High",
          "Low",
          "Low",
          "Low",
          "Low",
          "Low",
          "Low",
          "Low",
          "Low",
          "Low",
          "Low",
          "Low",
          "Low",
          "Low",
          "Low",
          "High",
          "Low",
          "Low",
          "High",
          "Low",
          "Low",
          "Low",
          "Low",
          "Low",
          "Low",
          "Low",
          "Low",
          "Low",
          "High",
          "High",
          "High",
          "Low",
          "Low",
          "Low",
          "Low",
          "Low",
          "Low",
          "Low",
          "Low",
          "High",
          "Low",
          "Low",
          "Low",
          "High",
          "High",
          "Low",
          "Low",
          "Low",
          "High",
          "Low",
          "High",
          "Low",
          "Low",
          "Low",
          "Low",
          "Low",
          "Low",
          "Low",
          "Low",
          "High",
          "Low",
          "Low",
          "Low",
          "Low",
          "High",
          "High",
          "High",
          "Low",
          "High",
          "Low",
          "Low",
          "Low",
          "Low",
          "High",
          "High",
          "Low",
          "Low",
          "Low",
          "Low",
          "Low",
          "Low",
          "Low",
          "High",
          "Low",
          "Low",
          "Low",
          "High",
          "Low",
          "High",
          "Low",
          "Low",
          "Low",
          "Low",
          "Low",
          "Low",
          "High",
          "Low",
          "Low",
          "Low",
          "Low",
          "Low",
          "Low",
          "Low",
          "High",
          "High",
          "Low",
          "Low",
          "Low",
          "Low",
          "High",
          "Low",
          "Low",
          "High",
          "High",
          "Low",
          "Low",
          "Low",
          "Low",
          "Low",
          "High",
          "High",
          "Low",
          "Low",
          "Low",
          "Low",
          "High",
          "Low",
          "High",
          "Low",
          "Low",
          "Low",
          "Low",
          "High",
          "High",
          "High",
          "Low",
          "Low",
          "High",
          "Low",
          "Low",
          "Low",
          "Low",
          "Low",
          "Low",
          "High",
          "High",
          "Low",
          "Low",
          "Low",
          "Low",
          "Low",
          "Low",
          "High",
          "Low",
          "Low",
          "Low",
          "Low",
          "Low",
          "Low",
          "High",
          "High",
          "High",
          "High",
          "Low",
          "Low",
          "High",
          "Low",
          "Low",
          "Low",
          "Low"
         ],
         "x0": " ",
         "xaxis": "x",
         "y": [
          17.5,
          0.7,
          0,
          0,
          3.6,
          0,
          0.6,
          1.7,
          0,
          0,
          0.4,
          0.4,
          0,
          7.6,
          1.7,
          0.2,
          0,
          3.8,
          30.5,
          4.8,
          3.2,
          0.2,
          6.7,
          0.1,
          0,
          0,
          23.5,
          38.6,
          15.1,
          18.9,
          9.3,
          0,
          40.9,
          14.6,
          0,
          0,
          2.1,
          10.8,
          43.4,
          3.3,
          0.3,
          15,
          0,
          0.1,
          1.2,
          0,
          0,
          27.8,
          5.4,
          0.6,
          0.4,
          1,
          2.3,
          1.2,
          11.7,
          0.2,
          13.8,
          15.3,
          3.1,
          0,
          0,
          0.9,
          43.8,
          2.3,
          0,
          12.8,
          0.3,
          0.9,
          0.9,
          27.2,
          20.3,
          5.9,
          38.4,
          3.1,
          0,
          0,
          1,
          0.4,
          0,
          0.4,
          0,
          1.5,
          0,
          1.2,
          0,
          5.7,
          1.2,
          19.5,
          17,
          0,
          0,
          3.3,
          18.1,
          0,
          0.8,
          17.3,
          30.1,
          1,
          1.2,
          25.1,
          53.8,
          0,
          0.5,
          32.2,
          0,
          35.4,
          8.2,
          0.2,
          0,
          69.2,
          3.7,
          0,
          3.9,
          0.4,
          0.7,
          38.1,
          5.9,
          7,
          11.7,
          0,
          0,
          4.6,
          13,
          9.8,
          0.7,
          0,
          0,
          4.1,
          15.4,
          0.7,
          22.1,
          0,
          0.3,
          2.2,
          0.2,
          0,
          0,
          0,
          0,
          50.6,
          10.8,
          0,
          44.6,
          0,
          6.2,
          0.1,
          1.9,
          41,
          0,
          0,
          0,
          26.2,
          1.9,
          0,
          1.1,
          0,
          3.7,
          0.6,
          2.2,
          1.4,
          0,
          0,
          5.1,
          36.4,
          0.2,
          31.6,
          20.7,
          19.4,
          0.1,
          0.1,
          0,
          0.2,
          12.2,
          40.4,
          0.8,
          0,
          0,
          0,
          0,
          1.2,
          34.6,
          0,
          2.3,
          7.8,
          42.5,
          25.4
         ],
         "y0": " ",
         "yaxis": "y"
        }
       ],
       "layout": {
        "autosize": true,
        "boxmode": "group",
        "legend": {
         "tracegroupgap": 0
        },
        "margin": {
         "t": 60
        },
        "template": {
         "data": {
          "bar": [
           {
            "error_x": {
             "color": "#2a3f5f"
            },
            "error_y": {
             "color": "#2a3f5f"
            },
            "marker": {
             "line": {
              "color": "#E5ECF6",
              "width": 0.5
             }
            },
            "type": "bar"
           }
          ],
          "barpolar": [
           {
            "marker": {
             "line": {
              "color": "#E5ECF6",
              "width": 0.5
             }
            },
            "type": "barpolar"
           }
          ],
          "carpet": [
           {
            "aaxis": {
             "endlinecolor": "#2a3f5f",
             "gridcolor": "white",
             "linecolor": "white",
             "minorgridcolor": "white",
             "startlinecolor": "#2a3f5f"
            },
            "baxis": {
             "endlinecolor": "#2a3f5f",
             "gridcolor": "white",
             "linecolor": "white",
             "minorgridcolor": "white",
             "startlinecolor": "#2a3f5f"
            },
            "type": "carpet"
           }
          ],
          "choropleth": [
           {
            "colorbar": {
             "outlinewidth": 0,
             "ticks": ""
            },
            "type": "choropleth"
           }
          ],
          "contour": [
           {
            "colorbar": {
             "outlinewidth": 0,
             "ticks": ""
            },
            "colorscale": [
             [
              0,
              "#0d0887"
             ],
             [
              0.1111111111111111,
              "#46039f"
             ],
             [
              0.2222222222222222,
              "#7201a8"
             ],
             [
              0.3333333333333333,
              "#9c179e"
             ],
             [
              0.4444444444444444,
              "#bd3786"
             ],
             [
              0.5555555555555556,
              "#d8576b"
             ],
             [
              0.6666666666666666,
              "#ed7953"
             ],
             [
              0.7777777777777778,
              "#fb9f3a"
             ],
             [
              0.8888888888888888,
              "#fdca26"
             ],
             [
              1,
              "#f0f921"
             ]
            ],
            "type": "contour"
           }
          ],
          "contourcarpet": [
           {
            "colorbar": {
             "outlinewidth": 0,
             "ticks": ""
            },
            "type": "contourcarpet"
           }
          ],
          "heatmap": [
           {
            "colorbar": {
             "outlinewidth": 0,
             "ticks": ""
            },
            "colorscale": [
             [
              0,
              "#0d0887"
             ],
             [
              0.1111111111111111,
              "#46039f"
             ],
             [
              0.2222222222222222,
              "#7201a8"
             ],
             [
              0.3333333333333333,
              "#9c179e"
             ],
             [
              0.4444444444444444,
              "#bd3786"
             ],
             [
              0.5555555555555556,
              "#d8576b"
             ],
             [
              0.6666666666666666,
              "#ed7953"
             ],
             [
              0.7777777777777778,
              "#fb9f3a"
             ],
             [
              0.8888888888888888,
              "#fdca26"
             ],
             [
              1,
              "#f0f921"
             ]
            ],
            "type": "heatmap"
           }
          ],
          "heatmapgl": [
           {
            "colorbar": {
             "outlinewidth": 0,
             "ticks": ""
            },
            "colorscale": [
             [
              0,
              "#0d0887"
             ],
             [
              0.1111111111111111,
              "#46039f"
             ],
             [
              0.2222222222222222,
              "#7201a8"
             ],
             [
              0.3333333333333333,
              "#9c179e"
             ],
             [
              0.4444444444444444,
              "#bd3786"
             ],
             [
              0.5555555555555556,
              "#d8576b"
             ],
             [
              0.6666666666666666,
              "#ed7953"
             ],
             [
              0.7777777777777778,
              "#fb9f3a"
             ],
             [
              0.8888888888888888,
              "#fdca26"
             ],
             [
              1,
              "#f0f921"
             ]
            ],
            "type": "heatmapgl"
           }
          ],
          "histogram": [
           {
            "marker": {
             "colorbar": {
              "outlinewidth": 0,
              "ticks": ""
             }
            },
            "type": "histogram"
           }
          ],
          "histogram2d": [
           {
            "colorbar": {
             "outlinewidth": 0,
             "ticks": ""
            },
            "colorscale": [
             [
              0,
              "#0d0887"
             ],
             [
              0.1111111111111111,
              "#46039f"
             ],
             [
              0.2222222222222222,
              "#7201a8"
             ],
             [
              0.3333333333333333,
              "#9c179e"
             ],
             [
              0.4444444444444444,
              "#bd3786"
             ],
             [
              0.5555555555555556,
              "#d8576b"
             ],
             [
              0.6666666666666666,
              "#ed7953"
             ],
             [
              0.7777777777777778,
              "#fb9f3a"
             ],
             [
              0.8888888888888888,
              "#fdca26"
             ],
             [
              1,
              "#f0f921"
             ]
            ],
            "type": "histogram2d"
           }
          ],
          "histogram2dcontour": [
           {
            "colorbar": {
             "outlinewidth": 0,
             "ticks": ""
            },
            "colorscale": [
             [
              0,
              "#0d0887"
             ],
             [
              0.1111111111111111,
              "#46039f"
             ],
             [
              0.2222222222222222,
              "#7201a8"
             ],
             [
              0.3333333333333333,
              "#9c179e"
             ],
             [
              0.4444444444444444,
              "#bd3786"
             ],
             [
              0.5555555555555556,
              "#d8576b"
             ],
             [
              0.6666666666666666,
              "#ed7953"
             ],
             [
              0.7777777777777778,
              "#fb9f3a"
             ],
             [
              0.8888888888888888,
              "#fdca26"
             ],
             [
              1,
              "#f0f921"
             ]
            ],
            "type": "histogram2dcontour"
           }
          ],
          "mesh3d": [
           {
            "colorbar": {
             "outlinewidth": 0,
             "ticks": ""
            },
            "type": "mesh3d"
           }
          ],
          "parcoords": [
           {
            "line": {
             "colorbar": {
              "outlinewidth": 0,
              "ticks": ""
             }
            },
            "type": "parcoords"
           }
          ],
          "pie": [
           {
            "automargin": true,
            "type": "pie"
           }
          ],
          "scatter": [
           {
            "marker": {
             "colorbar": {
              "outlinewidth": 0,
              "ticks": ""
             }
            },
            "type": "scatter"
           }
          ],
          "scatter3d": [
           {
            "line": {
             "colorbar": {
              "outlinewidth": 0,
              "ticks": ""
             }
            },
            "marker": {
             "colorbar": {
              "outlinewidth": 0,
              "ticks": ""
             }
            },
            "type": "scatter3d"
           }
          ],
          "scattercarpet": [
           {
            "marker": {
             "colorbar": {
              "outlinewidth": 0,
              "ticks": ""
             }
            },
            "type": "scattercarpet"
           }
          ],
          "scattergeo": [
           {
            "marker": {
             "colorbar": {
              "outlinewidth": 0,
              "ticks": ""
             }
            },
            "type": "scattergeo"
           }
          ],
          "scattergl": [
           {
            "marker": {
             "colorbar": {
              "outlinewidth": 0,
              "ticks": ""
             }
            },
            "type": "scattergl"
           }
          ],
          "scattermapbox": [
           {
            "marker": {
             "colorbar": {
              "outlinewidth": 0,
              "ticks": ""
             }
            },
            "type": "scattermapbox"
           }
          ],
          "scatterpolar": [
           {
            "marker": {
             "colorbar": {
              "outlinewidth": 0,
              "ticks": ""
             }
            },
            "type": "scatterpolar"
           }
          ],
          "scatterpolargl": [
           {
            "marker": {
             "colorbar": {
              "outlinewidth": 0,
              "ticks": ""
             }
            },
            "type": "scatterpolargl"
           }
          ],
          "scatterternary": [
           {
            "marker": {
             "colorbar": {
              "outlinewidth": 0,
              "ticks": ""
             }
            },
            "type": "scatterternary"
           }
          ],
          "surface": [
           {
            "colorbar": {
             "outlinewidth": 0,
             "ticks": ""
            },
            "colorscale": [
             [
              0,
              "#0d0887"
             ],
             [
              0.1111111111111111,
              "#46039f"
             ],
             [
              0.2222222222222222,
              "#7201a8"
             ],
             [
              0.3333333333333333,
              "#9c179e"
             ],
             [
              0.4444444444444444,
              "#bd3786"
             ],
             [
              0.5555555555555556,
              "#d8576b"
             ],
             [
              0.6666666666666666,
              "#ed7953"
             ],
             [
              0.7777777777777778,
              "#fb9f3a"
             ],
             [
              0.8888888888888888,
              "#fdca26"
             ],
             [
              1,
              "#f0f921"
             ]
            ],
            "type": "surface"
           }
          ],
          "table": [
           {
            "cells": {
             "fill": {
              "color": "#EBF0F8"
             },
             "line": {
              "color": "white"
             }
            },
            "header": {
             "fill": {
              "color": "#C8D4E3"
             },
             "line": {
              "color": "white"
             }
            },
            "type": "table"
           }
          ]
         },
         "layout": {
          "annotationdefaults": {
           "arrowcolor": "#2a3f5f",
           "arrowhead": 0,
           "arrowwidth": 1
          },
          "coloraxis": {
           "colorbar": {
            "outlinewidth": 0,
            "ticks": ""
           }
          },
          "colorscale": {
           "diverging": [
            [
             0,
             "#8e0152"
            ],
            [
             0.1,
             "#c51b7d"
            ],
            [
             0.2,
             "#de77ae"
            ],
            [
             0.3,
             "#f1b6da"
            ],
            [
             0.4,
             "#fde0ef"
            ],
            [
             0.5,
             "#f7f7f7"
            ],
            [
             0.6,
             "#e6f5d0"
            ],
            [
             0.7,
             "#b8e186"
            ],
            [
             0.8,
             "#7fbc41"
            ],
            [
             0.9,
             "#4d9221"
            ],
            [
             1,
             "#276419"
            ]
           ],
           "sequential": [
            [
             0,
             "#0d0887"
            ],
            [
             0.1111111111111111,
             "#46039f"
            ],
            [
             0.2222222222222222,
             "#7201a8"
            ],
            [
             0.3333333333333333,
             "#9c179e"
            ],
            [
             0.4444444444444444,
             "#bd3786"
            ],
            [
             0.5555555555555556,
             "#d8576b"
            ],
            [
             0.6666666666666666,
             "#ed7953"
            ],
            [
             0.7777777777777778,
             "#fb9f3a"
            ],
            [
             0.8888888888888888,
             "#fdca26"
            ],
            [
             1,
             "#f0f921"
            ]
           ],
           "sequentialminus": [
            [
             0,
             "#0d0887"
            ],
            [
             0.1111111111111111,
             "#46039f"
            ],
            [
             0.2222222222222222,
             "#7201a8"
            ],
            [
             0.3333333333333333,
             "#9c179e"
            ],
            [
             0.4444444444444444,
             "#bd3786"
            ],
            [
             0.5555555555555556,
             "#d8576b"
            ],
            [
             0.6666666666666666,
             "#ed7953"
            ],
            [
             0.7777777777777778,
             "#fb9f3a"
            ],
            [
             0.8888888888888888,
             "#fdca26"
            ],
            [
             1,
             "#f0f921"
            ]
           ]
          },
          "colorway": [
           "#636efa",
           "#EF553B",
           "#00cc96",
           "#ab63fa",
           "#FFA15A",
           "#19d3f3",
           "#FF6692",
           "#B6E880",
           "#FF97FF",
           "#FECB52"
          ],
          "font": {
           "color": "#2a3f5f"
          },
          "geo": {
           "bgcolor": "white",
           "lakecolor": "white",
           "landcolor": "#E5ECF6",
           "showlakes": true,
           "showland": true,
           "subunitcolor": "white"
          },
          "hoverlabel": {
           "align": "left"
          },
          "hovermode": "closest",
          "mapbox": {
           "style": "light"
          },
          "paper_bgcolor": "white",
          "plot_bgcolor": "#E5ECF6",
          "polar": {
           "angularaxis": {
            "gridcolor": "white",
            "linecolor": "white",
            "ticks": ""
           },
           "bgcolor": "#E5ECF6",
           "radialaxis": {
            "gridcolor": "white",
            "linecolor": "white",
            "ticks": ""
           }
          },
          "scene": {
           "xaxis": {
            "backgroundcolor": "#E5ECF6",
            "gridcolor": "white",
            "gridwidth": 2,
            "linecolor": "white",
            "showbackground": true,
            "ticks": "",
            "zerolinecolor": "white"
           },
           "yaxis": {
            "backgroundcolor": "#E5ECF6",
            "gridcolor": "white",
            "gridwidth": 2,
            "linecolor": "white",
            "showbackground": true,
            "ticks": "",
            "zerolinecolor": "white"
           },
           "zaxis": {
            "backgroundcolor": "#E5ECF6",
            "gridcolor": "white",
            "gridwidth": 2,
            "linecolor": "white",
            "showbackground": true,
            "ticks": "",
            "zerolinecolor": "white"
           }
          },
          "shapedefaults": {
           "line": {
            "color": "#2a3f5f"
           }
          },
          "ternary": {
           "aaxis": {
            "gridcolor": "white",
            "linecolor": "white",
            "ticks": ""
           },
           "baxis": {
            "gridcolor": "white",
            "linecolor": "white",
            "ticks": ""
           },
           "bgcolor": "#E5ECF6",
           "caxis": {
            "gridcolor": "white",
            "linecolor": "white",
            "ticks": ""
           }
          },
          "title": {
           "x": 0.05
          },
          "xaxis": {
           "automargin": true,
           "gridcolor": "white",
           "linecolor": "white",
           "ticks": "",
           "title": {
            "standoff": 15
           },
           "zerolinecolor": "white",
           "zerolinewidth": 2
          },
          "yaxis": {
           "automargin": true,
           "gridcolor": "white",
           "linecolor": "white",
           "ticks": "",
           "title": {
            "standoff": 15
           },
           "zerolinecolor": "white",
           "zerolinewidth": 2
          }
         }
        },
        "xaxis": {
         "anchor": "y",
         "autorange": true,
         "domain": [
          0,
          1
         ],
         "range": [
          -0.5066964285714286,
          1.5
         ],
         "title": {
          "text": "Health systems development level"
         },
         "type": "category"
        },
        "yaxis": {
         "anchor": "x",
         "autorange": true,
         "domain": [
          0,
          1
         ],
         "range": [
          -3.8444444444444446,
          73.04444444444445
         ],
         "title": {
          "text": "External health expenditure (% of current health expenditure)"
         },
         "type": "linear"
        }
       }
      },
      "image/png": "[encoded data removed]"
     },
     "metadata": {},
     "output_type": "display_data"
    }
   ],
   "source": [
    "# Box plot to see the spread \n",
    "px.box(\n",
    "    data_kmeans, \n",
    "    y='External health expenditure (% of current health expenditure)', \n",
    "    x='Health systems development level', \n",
    "    points='all'\n",
    ")"
   ]
  }
 ],
 "metadata": {
  "file_extension": ".py",
  "kernelspec": {
   "display_name": "Python 3.7.6 64-bit ('notbase': conda)",
   "language": "python",
   "name": "python37664bitnotbaseconda219aa8dc67624089a2d675300d9267c4"
  },
  "language_info": {
   "codemirror_mode": {
    "name": "ipython",
    "version": 3
   },
   "file_extension": ".py",
   "mimetype": "text/x-python",
   "name": "python",
   "nbconvert_exporter": "python",
   "pygments_lexer": "ipython3",
   "version": "3.7.6"
  },
  "mimetype": "text/x-python",
  "name": "python",
  "npconvert_exporter": "python",
  "pygments_lexer": "ipython3",
  "version": 3
 },
 "nbformat": 4,
 "nbformat_minor": 4
}
